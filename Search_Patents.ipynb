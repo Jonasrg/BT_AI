{
 "cells": [
  {
   "cell_type": "code",
   "execution_count": 1,
   "metadata": {},
   "outputs": [],
   "source": [
    "from dotenv import load_dotenv\n",
    "import epo_ops\n",
    "import os\n",
    "import pandas as pd\n",
    "import json\n",
    "import requests\n",
    "# parameters\n",
    "import yaml\n",
    "from time import sleep\n",
    "from collections import Counter\n",
    "import utils\n",
    "import api\n",
    "import construct_query as cquery\n",
    "import numpy as np\n",
    "import re\n",
    "\n",
    "with open(\"config.yaml\", \"r\") as stream:\n",
    "        config = yaml.safe_load(stream)\n",
    "\n",
    "url = \"http://ops.epo.org/3.2/rest-services/published-data/search\"\n",
    "queries = cquery.construct_query(config=config)\n",
    "\n",
    "# Set up logger\n",
    "import logging\n",
    "logging.basicConfig(format='%(asctime)s %(levelname)s:%(message)s', \n",
    "                    level=logging.DEBUG, datefmt='%Y-%m-%d %H:%M:%S', \n",
    "                    filename='GET_Requests.log', \n",
    "                    encoding='utf-8')\n",
    "\n",
    "# create classes\n",
    "Sleeper = api.Sleeper(150, 60*60, 30)\n",
    "AccessToken = api.AccessToken()\n"
   ]
  },
  {
   "cell_type": "code",
   "execution_count": 8,
   "metadata": {},
   "outputs": [
    {
     "data": {
      "text/plain": [
       "['(ta ALL \"agriculture\" OR ta ALL \"forestry\" OR ta ALL \"fishing\") AND (ta = \"cereals\" OR ta = \"equines\" OR ta = \"beverage\" OR ta = \"aromatic\" OR ta = \"nuts\" OR ta = \"leguminous\" OR ta = \"roots\" ) AND cpc any \"G06N20/00 G06N20/10 G06N20/20 G06N3/09 G06N3/088 G06N3/092 G06N3/08\" AND AP=\"EP\"',\n",
       " '(ta ALL \"agriculture\" OR ta ALL \"forestry\" OR ta ALL \"fishing\") AND (ta = \"buffaloes\" OR ta = \"production\" OR ta = \"tubers\" OR ta = \"service\" OR ta = \"pharmaceutical\" OR ta = \"agriculture\" OR ta = \"related\" ) AND cpc any \"G06N20/00 G06N20/10 G06N20/20 G06N3/09 G06N3/088 G06N3/092 G06N3/08\" AND AP=\"EP\"',\n",
       " '(ta ALL \"agriculture\" OR ta ALL \"forestry\" OR ta ALL \"fishing\") AND (ta = \"propagation\" OR ta = \"pome\" OR ta = \"hunting\" OR ta = \"drug\" OR ta = \"stone\" OR ta = \"crop\" OR ta = \"cane\" ) AND cpc any \"G06N20/00 G06N20/10 G06N20/20 G06N3/09 G06N3/088 G06N3/092 G06N3/08\" AND AP=\"EP\"',\n",
       " '(ta ALL \"agriculture\" OR ta ALL \"forestry\" OR ta ALL \"fishing\") AND (ta = \"sugar\" OR ta = \"subtropical\" OR ta = \"goats\" OR ta = \"mixed\" OR ta = \"growing\" OR ta = \"farming\" OR ta = \"cattle\" ) AND cpc any \"G06N20/00 G06N20/10 G06N20/20 G06N3/09 G06N3/088 G06N3/092 G06N3/08\" AND AP=\"EP\"',\n",
       " '(ta ALL \"agriculture\" OR ta ALL \"forestry\" OR ta ALL \"fishing\") AND (ta = \"rice\" OR ta = \"camels\" OR ta = \"animal\" OR ta = \"perennial\" OR ta = \"tree\" OR ta = \"poultry\" OR ta = \"bush\" ) AND cpc any \"G06N20/00 G06N20/10 G06N20/20 G06N3/09 G06N3/088 G06N3/092 G06N3/08\" AND AP=\"EP\"',\n",
       " '(ta ALL \"agriculture\" OR ta ALL \"forestry\" OR ta ALL \"fishing\") AND (ta = \"fruits\" OR ta = \"oleaginous\" OR ta = \"trapping\" OR ta = \"grapes\" OR ta = \"activities\" OR ta = \"horses\" OR ta = \"dairy\" ) AND cpc any \"G06N20/00 G06N20/10 G06N20/20 G06N3/09 G06N3/088 G06N3/092 G06N3/08\" AND AP=\"EP\"',\n",
       " '(ta ALL \"agriculture\" OR ta ALL \"forestry\" OR ta ALL \"fishing\") AND (ta = \"spices\" OR ta = \"raising\" OR ta = \"pigs\" OR ta = \"fibre\" OR ta = \"processing\" OR ta = \"tobacco\" OR ta = \"camelids\" ) AND cpc any \"G06N20/00 G06N20/10 G06N20/20 G06N3/09 G06N3/088 G06N3/092 G06N3/08\" AND AP=\"EP\"',\n",
       " '(ta ALL \"agriculture\" OR ta ALL \"forestry\" OR ta ALL \"fishing\") AND (ta = \"post-harvest\" OR ta = \"swine\" OR ta = \"tropical\" OR ta = \"plant\" OR ta = \"vegetables\" OR ta = \"citrus\" OR ta = \"support\" ) AND cpc any \"G06N20/00 G06N20/10 G06N20/20 G06N3/09 G06N3/088 G06N3/092 G06N3/08\" AND AP=\"EP\"',\n",
       " '(ta ALL \"agriculture\" OR ta ALL \"forestry\" OR ta ALL \"fishing\") AND (ta = \"sheep\" OR ta = \"non-perennial\" OR ta = \"melons\" OR ta = \"seed\" OR ta = \"crops\" OR ta = \"except\" OR ta = \"oil\" ) AND cpc any \"G06N20/00 G06N20/10 G06N20/20 G06N3/09 G06N3/088 G06N3/092 G06N3/08\" AND AP=\"EP\"',\n",
       " '(ta ALL \"agriculture\" OR ta ALL \"forestry\" OR ta ALL \"fishing\") AND (ta = \"animals\" OR ta = \"seeds\" ) AND cpc any \"G06N20/00 G06N20/10 G06N20/20 G06N3/09 G06N3/088 G06N3/092 G06N3/08\" AND AP=\"EP\"']"
      ]
     },
     "execution_count": 8,
     "metadata": {},
     "output_type": "execute_result"
    }
   ],
   "source": [
    "queries[\"EP\"][\"A\"][1]"
   ]
  },
  {
   "cell_type": "code",
   "execution_count": 7,
   "metadata": {},
   "outputs": [],
   "source": [
    "with open('data/ops_search_queries.json', 'w') as f:\n",
    "    json.dump(queries, f, ensure_ascii=False, indent=4)"
   ]
  },
  {
   "cell_type": "code",
   "execution_count": 2,
   "metadata": {},
   "outputs": [],
   "source": [
    "keywords, industry_keywords, Div_Ind_dict = cquery.get_keywords(config=config)\n",
    "try:\n",
    "    retreived_data = pd.read_json(config[\"paths\"][\"retrieved_data_content\"])\n",
    "    start_division = retreived_data[\"division\"].max() - 1\n",
    "    start_industry = Div_Ind_dict[start_division]\n",
    "except FileNotFoundError:\n",
    "    start_division = 0\n",
    "    start_industry = \"A\""
   ]
  },
  {
   "cell_type": "code",
   "execution_count": 4,
   "metadata": {},
   "outputs": [],
   "source": [
    "# Iterater over queries\n",
    "logging.info(f\"Start iterating over queries\")\n",
    "logging.info(f\"Starting from industry {start_industry} division {start_division} and\")\n",
    "# insert skipper here if all countries are to be scraped\n",
    "for industry in queries[\"EP\"].keys():\n",
    "    # skip already scraped industries\n",
    "    if industry < start_industry:\n",
    "        continue\n",
    "    for division in queries[\"EP\"][industry].keys():\n",
    "        # skip already scraped divisions\n",
    "        if division < start_division:\n",
    "            continue\n",
    "        for index, query in enumerate(queries[\"EP\"][industry][division]):\n",
    "            idx = industry + \"_\" + str(division) + \"_\" + str(index)\n",
    "            # make initial query\n",
    "            r = api.make_request(url=url, query=query, range_begin=1, range_end=100, AccessToken=AccessToken, logging=logging, Sleeper=Sleeper)\n",
    "            # check if request was successful\n",
    "            if r.status_code == 200:\n",
    "                logging.info(f\"Request for {idx} successful\")\n",
    "                # get total number of hits\n",
    "                total_hits = r.json()[\"ops:world-patent-data\"][\"ops:biblio-search\"][\"@total-result-count\"]\n",
    "                # check if total hits is greater than 100\n",
    "                if int(total_hits) > 100:\n",
    "                    # get number of requests to make\n",
    "                    num_requests = int(total_hits) // 100\n",
    "                    # iterate over requests\n",
    "                    for i in range(1, num_requests):\n",
    "                        range_begin_tmp = i*100+1\n",
    "                        range_end_tmp = (i+1)*100\n",
    "                        # make request\n",
    "                        r = api.make_request(url=url, query=query, range_begin=i*100+1, range_end=(i+1)*100, AccessToken=AccessToken, logging=logging, Sleeper=Sleeper)\n",
    "                        # check if request was successful\n",
    "                        if r.status_code == 200:\n",
    "                            # save response\n",
    "                            json_list = api.extract_content(response=r, country=\"EP\", industry=industry, division=division, query=query, range_begin=i*100+1, range_end=(i+1)*100)\n",
    "                            utils.write_to_file(retrieved_data_path=config[\"paths\"][\"retrieved_data_content\"], ls=json_list)\n",
    "                            # log success\n",
    "                            logging.info(f\"Request for {idx} {i} successful\")\n",
    "                        else:\n",
    "                            # log failure\n",
    "                            logging.info(f\"Request for {idx} {i} failed\")\n",
    "                        # sleep for 1 second\n",
    "                        sleep(1)\n",
    "                else:\n",
    "                    # save response\n",
    "                    json_list = api.extract_content(response=r, country=\"EP\", industry=industry, division=division, query=query, range_begin=1, range_end=100)\n",
    "                    utils.write_to_file(retrieved_data_path=config[\"paths\"][\"retrieved_data_content\"], ls=json_list)\n",
    "                    # log success\n",
    "                    logging.info(f\"Request for {idx} successful - {r.status_code}\")\n",
    "                    sleep(1)\n",
    "            else:\n",
    "                # log failure\n",
    "                message = r.text.replace('\\n', ' ')\n",
    "                logging.info(f\"Request for {idx} failed - Reasion: {r.status_code} - {message}\")"
   ]
  }
 ],
 "metadata": {
  "kernelspec": {
   "display_name": ".venv_old",
   "language": "python",
   "name": "python3"
  },
  "language_info": {
   "codemirror_mode": {
    "name": "ipython",
    "version": 3
   },
   "file_extension": ".py",
   "mimetype": "text/x-python",
   "name": "python",
   "nbconvert_exporter": "python",
   "pygments_lexer": "ipython3",
   "version": "3.11.1"
  }
 },
 "nbformat": 4,
 "nbformat_minor": 2
}
